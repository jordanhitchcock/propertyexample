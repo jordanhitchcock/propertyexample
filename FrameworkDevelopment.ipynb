{
 "cells": [
  {
   "cell_type": "markdown",
   "id": "7a40fda4",
   "metadata": {},
   "source": [
    "# Modeling Cash Flows in Python"
   ]
  },
  {
   "cell_type": "code",
   "execution_count": 1,
   "id": "a62b24a3",
   "metadata": {},
   "outputs": [],
   "source": [
    "import pandas as pd"
   ]
  },
  {
   "cell_type": "markdown",
   "id": "001bee2d",
   "metadata": {},
   "source": [
    "## Framework Development--First Steps\n",
    "The goal with this framework is to create a way to easily model cash flows in Python. It should be easy for people coming from a traditional Excel-based underwriting background to understand. As a result, heavy inspiration comes from typical Excel model patterns.\n",
    "\n",
    "Modeling Excel rows as functions with time periods as arguments is a natural place to start. The capital account below is a basic example. Even for a simple model though, function execution ends up being highly iterative."
   ]
  },
  {
   "cell_type": "code",
   "execution_count": 2,
   "id": "1223c550",
   "metadata": {},
   "outputs": [
    {
     "name": "stdout",
     "output_type": "stream",
     "text": [
      "CPU times: user 2.86 s, sys: 7.89 ms, total: 2.86 s\n",
      "Wall time: 2.87 s\n",
      "Total function executions: 10485755\n"
     ]
    }
   ],
   "source": [
    "call_counter = 0\n",
    "\n",
    "def starting_balance(period: int):\n",
    "    global call_counter\n",
    "    call_counter += 1\n",
    "    return 100 if period == 0 else ending_balance(period - 1)\n",
    "\n",
    "def draw(period: int):\n",
    "    global call_counter\n",
    "    call_counter += 1\n",
    "    return 5\n",
    "\n",
    "def accrual(period: int):\n",
    "    global call_counter\n",
    "    call_counter += 1\n",
    "    return round(starting_balance(period) * 0.08, 2)\n",
    "\n",
    "def ending_balance(period: int):\n",
    "    global call_counter\n",
    "    call_counter += 1\n",
    "    return starting_balance(period) + draw(period) + accrual(period)\n",
    "\n",
    "%time ending_balance(20)\n",
    "print(f'Total function executions: {call_counter}')"
   ]
  },
  {
   "cell_type": "markdown",
   "id": "1b7bda60",
   "metadata": {},
   "source": [
    "The runtime for 20 periods executed locally is just under three seconds. The total number of function calls is exponential (O(2^n)) in this simple example. This clearly doesn't work for a typical 10 monthly pro forma with hundreds of line items.\n",
    "Using `cache` (equivalent to `lru_cache(maxsize=None)` available in 3.10+) cuts runtime down to approximately 60 microseconds."
   ]
  },
  {
   "cell_type": "code",
   "execution_count": 3,
   "id": "9bcf00e3",
   "metadata": {},
   "outputs": [
    {
     "name": "stdout",
     "output_type": "stream",
     "text": [
      "CPU times: user 47 µs, sys: 1 µs, total: 48 µs\n",
      "Wall time: 51 µs\n",
      "Total function executions: 84\n"
     ]
    }
   ],
   "source": [
    "from functools import cache\n",
    "\n",
    "call_counter = 0\n",
    "\n",
    "@cache\n",
    "def starting_balance(period: int):\n",
    "    global call_counter\n",
    "    call_counter += 1\n",
    "    return 100 if period == 0 else ending_balance(period - 1)\n",
    "\n",
    "@cache\n",
    "def draw(period: int):\n",
    "    global call_counter\n",
    "    call_counter += 1\n",
    "    return 5\n",
    "\n",
    "@cache\n",
    "def accrual(period: int):\n",
    "    global call_counter\n",
    "    call_counter += 1\n",
    "    return round(starting_balance(period) * 0.08, 2)\n",
    "\n",
    "@cache\n",
    "def ending_balance(period: int):\n",
    "    global call_counter\n",
    "    call_counter += 1\n",
    "    return starting_balance(period) + draw(period) + accrual(period)\n",
    "\n",
    "%time ending_balance(20)\n",
    "print(f'Total function executions: {call_counter}')"
   ]
  },
  {
   "cell_type": "markdown",
   "id": "1ed990a0",
   "metadata": {},
   "source": [
    "`cache`/`lru_cache` wrappers store cached values in a dictionary with keys equal to the hashed argument parameters. This creates two challenges: i) arguements must be hashable (i.e. immutable), and ii) caches will be stored across instances if wrapped at the class level.\n",
    "\n",
    "We will ignore the first issue for now since it likely isn't an issue in many cases. The second issue means wrapping methods will could lead to memory leaks."
   ]
  },
  {
   "cell_type": "code",
   "execution_count": 4,
   "id": "d6d9b4ab",
   "metadata": {},
   "outputs": [
    {
     "name": "stdout",
     "output_type": "stream",
     "text": [
      "Cache size with both instances: CacheInfo(hits=0, misses=2, maxsize=None, currsize=2)\n",
      "Cache size after first instance removed: CacheInfo(hits=0, misses=2, maxsize=None, currsize=2)\n"
     ]
    }
   ],
   "source": [
    "import gc\n",
    "\n",
    "class Property:\n",
    "    \n",
    "    def __init__(self, sf, rental_rate):\n",
    "        self.sf = sf\n",
    "        self.rental_rate = rental_rate\n",
    "    \n",
    "    @cache\n",
    "    def rent(self, period):\n",
    "        return self.sf * self.rental_rate\n",
    "\n",
    "\n",
    "prop1 = Property(100_000, 40)\n",
    "prop2 = Property(50_000, 60)\n",
    "prop1.rent(1)\n",
    "prop2.rent(1)\n",
    "print(f'Cache size with both instances: {prop2.rent.cache_info()}')\n",
    "del prop1\n",
    "gc.collect()  # Force a garbage collection cycle to run\n",
    "print(f'Cache size after first instance removed: {prop2.rent.cache_info()}')"
   ]
  },
  {
   "cell_type": "markdown",
   "id": "5dfab5d0",
   "metadata": {},
   "source": [
    "Even if a property instance is deleted, the cached values of its methods are never purged even after it is removed. Note that there isn't cache key collision because the instance `self` parameter is included in the key.\n",
    "\n",
    "An alternative to using `cache` would be `lru_cache` with some defined max size. This would eventually purge old values, but it's impossible to know how large the max size should be since it depends on the number of instances created and unique method calls.\n",
    "\n",
    "Ideally, the cache would be separate for each instance and would be removed when the instance is removed. [Descriptors](https://docs.python.org/3/howto/descriptor.html) allow us to generate a new cached method for each instance the first time it is called. This approach also speeds up initialization since caches aren't created until they are needed."
   ]
  },
  {
   "cell_type": "code",
   "execution_count": 5,
   "id": "22e5cbc0",
   "metadata": {},
   "outputs": [],
   "source": [
    "from types import MethodType\n",
    "\n",
    "class memoize:\n",
    "    \n",
    "    def __init__(self, func):\n",
    "        self.func = func\n",
    "    \n",
    "    def __set_name__(self, owner, name):\n",
    "        self.name = name\n",
    "    \n",
    "    def __get__(self, instance=None, cls=None):\n",
    "        if instance is None:\n",
    "            return self\n",
    "        \n",
    "        bound_func = MethodType(cache(self.func), instance)\n",
    "        setattr(instance, self.name, bound_func)\n",
    "        return bound_func"
   ]
  },
  {
   "cell_type": "code",
   "execution_count": 6,
   "id": "c6c71664",
   "metadata": {},
   "outputs": [
    {
     "name": "stdout",
     "output_type": "stream",
     "text": [
      "<bound method Property.rent of <__main__.Property object at 0x11ca0a080>>\n",
      "None\n"
     ]
    }
   ],
   "source": [
    "import weakref\n",
    "\n",
    "class Property:\n",
    "    \n",
    "    def __init__(self, sf, rental_rate):\n",
    "        self.sf = sf\n",
    "        self.rental_rate = rental_rate\n",
    "    \n",
    "    @memoize\n",
    "    def rent(self, period):\n",
    "        return self.sf * self.rental_rate\n",
    "\n",
    "prop = Property(100_000, 40)\n",
    "# Create weak reference to the func with caching wrapper so that gc will remove it if no other references\n",
    "cache_ref = weakref.ref(prop.rent)\n",
    "print(cache_ref())\n",
    "\n",
    "del prop\n",
    "gc.collect()\n",
    "print(cache_ref())"
   ]
  },
  {
   "cell_type": "markdown",
   "id": "f4aad070",
   "metadata": {},
   "source": [
    "Using a callable object as a method wrapper works perfectly fine. Some IDE's have trouble finding the appropriate type hints and function signatures though. For example, PyCharm shows correct function signature hint for the underlying wrapped function, but VS Code/Pylance simply shows the generic function signature for the `MethodType` wrapper. This seems to be an issue for many function wrappers, including builtins that are part of the base Python distribution. Pylance issues with wrappers seems to be a common question. To be reviewed at some point later."
   ]
  },
  {
   "cell_type": "markdown",
   "id": "5cedafa9",
   "metadata": {},
   "source": [
    "## Framework Development--Reusable Components and Groupings\n",
    "There are a few challenges with the single-method-per-line-item approach, including:\n",
    "* the whole class must be re-defined if any of the functions need to be changed\n",
    "* code isn't reusable\n",
    "* it's difficult to navigate for large projects\n",
    "\n",
    "The two approaches below explore different ways of creating a container object to group row functions. In both cases, if the object is called it will pass any arguments to any `memoize`d methods or recursively to any sub-container objects and return the results in a `attr_name: value` dictionary."
   ]
  },
  {
   "cell_type": "markdown",
   "id": "b10374c2",
   "metadata": {},
   "source": [
    "### A. Dynamic attribute look-up approach\n",
    "This approach finds all `memoize`d and `SeriesGroup` attributes over the instance's dict and entire type hierarchy when the object is called. This approach ensures the relevant attributes are never missed. \n",
    "\n",
    "In models with hundreds of lines, it's much easier to read the results if they are in the expected top-down order from revenues to net cash flows. One challenge with this approach is that the order of outputs can't be easily customized. The easiest orders to implements are either i) some variant of attribute definition order or ii) alphabetical."
   ]
  },
  {
   "cell_type": "code",
   "execution_count": 7,
   "id": "d7ac324a",
   "metadata": {},
   "outputs": [],
   "source": [
    "from utils import AbstractSeries, flatten_dict, memoize"
   ]
  },
  {
   "cell_type": "code",
   "execution_count": 8,
   "id": "efdde07e",
   "metadata": {},
   "outputs": [],
   "source": [
    "class SeriesGroupIterator:  # Iterator for SeriesGroup\n",
    "    \n",
    "    def __init__(self, series_group) -> None:\n",
    "        self._series = iter(series_group.get_series().values())\n",
    "    \n",
    "    def __next__(self):\n",
    "        try:\n",
    "            return next(self._series)\n",
    "        except StopIteration:\n",
    "            raise StopIteration\n",
    "\n",
    "\n",
    "class SeriesGroup(AbstractSeries):\n",
    "    \n",
    "    def __init__(self, name) -> None:\n",
    "        super().__init__()\n",
    "        self.name = name\n",
    "    \n",
    "    def __call__(self, *args, **kwargs):\n",
    "        series = self.get_series()\n",
    "        series_values = {name: s(*args, **kwargs) for name, s in series.items()}\n",
    "        return flatten_dict(series_values)\n",
    "    \n",
    "    def __iter__(self):\n",
    "        return SeriesGroupIterator(self)\n",
    "    \n",
    "    def get_series(self):\n",
    "        attrs = {name: getattr(self, name) for name in dir(self)}\n",
    "        series = {name: attr for name, attr in attrs.items() if isinstance(attr, AbstractSeries) or (isinstance(getattr(type(self), name, None), AbstractSeries))}\n",
    "        return series\n",
    "    \n",
    "    @classmethod\n",
    "    def with_series(cls, name, series):\n",
    "        new_group = cls(name)\n",
    "        for s in series:\n",
    "            setattr(new_group, s.name, s)\n",
    "        return new_group"
   ]
  },
  {
   "cell_type": "markdown",
   "id": "e7e3196f",
   "metadata": {},
   "source": [
    "`AbstractSeries` is an empty parent class for both `memoize` and `SeriesGroup` that makes it easier to identify which object attributes should be rolled up. The `flatten_dict` function flattens nested dictionarys with keys set equal to concatenated sub-dict keys. Concatenated keys could lead to name collision (future note to avoid collisions).\n",
    "\n",
    "The code snippet below shows how `SeriesGroups` can be used to build up more complex cash flows."
   ]
  },
  {
   "cell_type": "code",
   "execution_count": 9,
   "id": "aae84774",
   "metadata": {},
   "outputs": [],
   "source": [
    "class GrossLease(SeriesGroup):\n",
    "    \n",
    "    def __init__(self, name, sf, rent_psf) -> None:\n",
    "        super().__init__(name)\n",
    "        self.sf = sf\n",
    "        self.rent_psf = rent_psf\n",
    "\n",
    "    @memoize\n",
    "    def base_rent(self, period):\n",
    "        return self.sf * self.rent_psf\n",
    "\n",
    "\n",
    "class DynamicProperty(SeriesGroup):\n",
    "    \n",
    "    def __init__(self, name, leases, opex_pct) -> None:\n",
    "        super().__init__(name)\n",
    "        self.opex_pct = opex_pct\n",
    "        self.leases = leases\n",
    "    \n",
    "    @memoize\n",
    "    def total_rent(self, period):\n",
    "        return sum([l.base_rent(period) for l in self.leases])\n",
    "    \n",
    "    @memoize\n",
    "    def opex(self, period):\n",
    "        return self.total_rent(period) * self.opex_pct\n",
    "    \n",
    "    @memoize\n",
    "    def noi(self, period):\n",
    "        return self.total_rent(period) - self.opex(period)\n",
    "\n",
    "property = DynamicProperty(\n",
    "    name='123mainst',\n",
    "    leases=SeriesGroup('leases', \n",
    "                       GrossLease('tenant_a', sf=50_000, rent_psf=40), \n",
    "                       GrossLease('tenant_b', sf=25_000, rent_psf=50)),\n",
    "    opex_pct=0.55)"
   ]
  },
  {
   "cell_type": "code",
   "execution_count": 10,
   "id": "d8bee959",
   "metadata": {},
   "outputs": [
    {
     "data": {
      "text/html": [
       "<style type=\"text/css\">\n",
       "</style>\n",
       "<table id=\"T_1bb0d\">\n",
       "  <thead>\n",
       "    <tr>\n",
       "      <th class=\"blank level0\" >&nbsp;</th>\n",
       "      <th id=\"T_1bb0d_level0_col0\" class=\"col_heading level0 col0\" >0</th>\n",
       "      <th id=\"T_1bb0d_level0_col1\" class=\"col_heading level0 col1\" >1</th>\n",
       "      <th id=\"T_1bb0d_level0_col2\" class=\"col_heading level0 col2\" >2</th>\n",
       "      <th id=\"T_1bb0d_level0_col3\" class=\"col_heading level0 col3\" >3</th>\n",
       "      <th id=\"T_1bb0d_level0_col4\" class=\"col_heading level0 col4\" >4</th>\n",
       "      <th id=\"T_1bb0d_level0_col5\" class=\"col_heading level0 col5\" >5</th>\n",
       "      <th id=\"T_1bb0d_level0_col6\" class=\"col_heading level0 col6\" >6</th>\n",
       "      <th id=\"T_1bb0d_level0_col7\" class=\"col_heading level0 col7\" >7</th>\n",
       "      <th id=\"T_1bb0d_level0_col8\" class=\"col_heading level0 col8\" >8</th>\n",
       "      <th id=\"T_1bb0d_level0_col9\" class=\"col_heading level0 col9\" >9</th>\n",
       "    </tr>\n",
       "  </thead>\n",
       "  <tbody>\n",
       "    <tr>\n",
       "      <th id=\"T_1bb0d_level0_row0\" class=\"row_heading level0 row0\" >leases.tenant_a.base_rent</th>\n",
       "      <td id=\"T_1bb0d_row0_col0\" class=\"data row0 col0\" >2,000,000</td>\n",
       "      <td id=\"T_1bb0d_row0_col1\" class=\"data row0 col1\" >2,000,000</td>\n",
       "      <td id=\"T_1bb0d_row0_col2\" class=\"data row0 col2\" >2,000,000</td>\n",
       "      <td id=\"T_1bb0d_row0_col3\" class=\"data row0 col3\" >2,000,000</td>\n",
       "      <td id=\"T_1bb0d_row0_col4\" class=\"data row0 col4\" >2,000,000</td>\n",
       "      <td id=\"T_1bb0d_row0_col5\" class=\"data row0 col5\" >2,000,000</td>\n",
       "      <td id=\"T_1bb0d_row0_col6\" class=\"data row0 col6\" >2,000,000</td>\n",
       "      <td id=\"T_1bb0d_row0_col7\" class=\"data row0 col7\" >2,000,000</td>\n",
       "      <td id=\"T_1bb0d_row0_col8\" class=\"data row0 col8\" >2,000,000</td>\n",
       "      <td id=\"T_1bb0d_row0_col9\" class=\"data row0 col9\" >2,000,000</td>\n",
       "    </tr>\n",
       "    <tr>\n",
       "      <th id=\"T_1bb0d_level0_row1\" class=\"row_heading level0 row1\" >leases.tenant_b.base_rent</th>\n",
       "      <td id=\"T_1bb0d_row1_col0\" class=\"data row1 col0\" >1,250,000</td>\n",
       "      <td id=\"T_1bb0d_row1_col1\" class=\"data row1 col1\" >1,250,000</td>\n",
       "      <td id=\"T_1bb0d_row1_col2\" class=\"data row1 col2\" >1,250,000</td>\n",
       "      <td id=\"T_1bb0d_row1_col3\" class=\"data row1 col3\" >1,250,000</td>\n",
       "      <td id=\"T_1bb0d_row1_col4\" class=\"data row1 col4\" >1,250,000</td>\n",
       "      <td id=\"T_1bb0d_row1_col5\" class=\"data row1 col5\" >1,250,000</td>\n",
       "      <td id=\"T_1bb0d_row1_col6\" class=\"data row1 col6\" >1,250,000</td>\n",
       "      <td id=\"T_1bb0d_row1_col7\" class=\"data row1 col7\" >1,250,000</td>\n",
       "      <td id=\"T_1bb0d_row1_col8\" class=\"data row1 col8\" >1,250,000</td>\n",
       "      <td id=\"T_1bb0d_row1_col9\" class=\"data row1 col9\" >1,250,000</td>\n",
       "    </tr>\n",
       "    <tr>\n",
       "      <th id=\"T_1bb0d_level0_row2\" class=\"row_heading level0 row2\" >noi</th>\n",
       "      <td id=\"T_1bb0d_row2_col0\" class=\"data row2 col0\" >1,462,500</td>\n",
       "      <td id=\"T_1bb0d_row2_col1\" class=\"data row2 col1\" >1,462,500</td>\n",
       "      <td id=\"T_1bb0d_row2_col2\" class=\"data row2 col2\" >1,462,500</td>\n",
       "      <td id=\"T_1bb0d_row2_col3\" class=\"data row2 col3\" >1,462,500</td>\n",
       "      <td id=\"T_1bb0d_row2_col4\" class=\"data row2 col4\" >1,462,500</td>\n",
       "      <td id=\"T_1bb0d_row2_col5\" class=\"data row2 col5\" >1,462,500</td>\n",
       "      <td id=\"T_1bb0d_row2_col6\" class=\"data row2 col6\" >1,462,500</td>\n",
       "      <td id=\"T_1bb0d_row2_col7\" class=\"data row2 col7\" >1,462,500</td>\n",
       "      <td id=\"T_1bb0d_row2_col8\" class=\"data row2 col8\" >1,462,500</td>\n",
       "      <td id=\"T_1bb0d_row2_col9\" class=\"data row2 col9\" >1,462,500</td>\n",
       "    </tr>\n",
       "    <tr>\n",
       "      <th id=\"T_1bb0d_level0_row3\" class=\"row_heading level0 row3\" >opex</th>\n",
       "      <td id=\"T_1bb0d_row3_col0\" class=\"data row3 col0\" >1,787,500</td>\n",
       "      <td id=\"T_1bb0d_row3_col1\" class=\"data row3 col1\" >1,787,500</td>\n",
       "      <td id=\"T_1bb0d_row3_col2\" class=\"data row3 col2\" >1,787,500</td>\n",
       "      <td id=\"T_1bb0d_row3_col3\" class=\"data row3 col3\" >1,787,500</td>\n",
       "      <td id=\"T_1bb0d_row3_col4\" class=\"data row3 col4\" >1,787,500</td>\n",
       "      <td id=\"T_1bb0d_row3_col5\" class=\"data row3 col5\" >1,787,500</td>\n",
       "      <td id=\"T_1bb0d_row3_col6\" class=\"data row3 col6\" >1,787,500</td>\n",
       "      <td id=\"T_1bb0d_row3_col7\" class=\"data row3 col7\" >1,787,500</td>\n",
       "      <td id=\"T_1bb0d_row3_col8\" class=\"data row3 col8\" >1,787,500</td>\n",
       "      <td id=\"T_1bb0d_row3_col9\" class=\"data row3 col9\" >1,787,500</td>\n",
       "    </tr>\n",
       "    <tr>\n",
       "      <th id=\"T_1bb0d_level0_row4\" class=\"row_heading level0 row4\" >total_rent</th>\n",
       "      <td id=\"T_1bb0d_row4_col0\" class=\"data row4 col0\" >3,250,000</td>\n",
       "      <td id=\"T_1bb0d_row4_col1\" class=\"data row4 col1\" >3,250,000</td>\n",
       "      <td id=\"T_1bb0d_row4_col2\" class=\"data row4 col2\" >3,250,000</td>\n",
       "      <td id=\"T_1bb0d_row4_col3\" class=\"data row4 col3\" >3,250,000</td>\n",
       "      <td id=\"T_1bb0d_row4_col4\" class=\"data row4 col4\" >3,250,000</td>\n",
       "      <td id=\"T_1bb0d_row4_col5\" class=\"data row4 col5\" >3,250,000</td>\n",
       "      <td id=\"T_1bb0d_row4_col6\" class=\"data row4 col6\" >3,250,000</td>\n",
       "      <td id=\"T_1bb0d_row4_col7\" class=\"data row4 col7\" >3,250,000</td>\n",
       "      <td id=\"T_1bb0d_row4_col8\" class=\"data row4 col8\" >3,250,000</td>\n",
       "      <td id=\"T_1bb0d_row4_col9\" class=\"data row4 col9\" >3,250,000</td>\n",
       "    </tr>\n",
       "  </tbody>\n",
       "</table>\n"
      ],
      "text/plain": [
       "<pandas.io.formats.style.Styler at 0x11ca3a890>"
      ]
     },
     "execution_count": 10,
     "metadata": {},
     "output_type": "execute_result"
    }
   ],
   "source": [
    "pd.DataFrame([property(y) for y in range(10)]).T.style.format('{:,.0f}')"
   ]
  },
  {
   "cell_type": "markdown",
   "id": "35140e7c",
   "metadata": {},
   "source": [
    "### B. Stored attribute list approach\n",
    "This approach stores the names of attributes that should be rolled up in a list property. The approach does not require searching through every attribute on every call and gives users an easy way to customize the order of outputs. However, it means the list must be updated anytime attributes are added or removed."
   ]
  },
  {
   "cell_type": "code",
   "execution_count": 11,
   "id": "1cb65b50",
   "metadata": {},
   "outputs": [],
   "source": [
    "def get_hierarchy_attr(cls, filter=None):\n",
    "    bases = cls.__mro__\n",
    "    if bases:\n",
    "        bases = list(bases)\n",
    "        bases.reverse()\n",
    "    \n",
    "    attributes = []\n",
    "\n",
    "    if filter:\n",
    "        for base in bases:\n",
    "            for name, attr in vars(base).items():\n",
    "                if (name not in attributes) and filter(name, attr):\n",
    "                    attributes.append(name)\n",
    "    else:\n",
    "        for base in bases:\n",
    "            for name, attr in vars(base).items():\n",
    "                if (name not in attributes):\n",
    "                    attributes.append(name)\n",
    "    return attributes\n"
   ]
  },
  {
   "cell_type": "code",
   "execution_count": 12,
   "id": "1e07da19",
   "metadata": {},
   "outputs": [],
   "source": [
    "class SeriesIterator:  # Iterator class\n",
    "    \n",
    "    def __init__(self, series) -> None:\n",
    "        self._series = series\n",
    "        self._names_iter = iter(series.sub_series)\n",
    "        self._sub_series_lenth = len(series.sub_series)\n",
    "    \n",
    "    def __next__(self):\n",
    "        if len(self._series.sub_series) != self._sub_series_lenth:\n",
    "            raise RuntimeError('Number of sub-series changed during iteration')\n",
    "        try:\n",
    "            name = next(self._names_iter)\n",
    "            return getattr(self._series, name)\n",
    "        except StopIteration:\n",
    "            raise StopIteration\n",
    "\n",
    "\n",
    "class Series(AbstractSeries):\n",
    "    \n",
    "    def __init__(self, name: str) -> None:\n",
    "        super().__init__()\n",
    "        self.name = name\n",
    "        self.sub_series = get_hierarchy_attr(type(self), lambda name, value: isinstance(value, AbstractSeries))\n",
    "    \n",
    "    def __call__(self, *args, **kwds):\n",
    "        series_values = {name: getattr(self, name)(*args, **kwds) for name in self.sub_series}\n",
    "        return flatten_dict(series_values)\n",
    "    \n",
    "    def __iter__(self):\n",
    "        return SeriesIterator(self)\n",
    "    \n",
    "    def add_series(self, series, index: int = -1):\n",
    "        for s in series:\n",
    "            setattr(self, s.name, s)\n",
    "            self.sub_series.insert(index, s.name)\n",
    "    \n",
    "    @classmethod\n",
    "    def with_sub_series(cls, name, series):\n",
    "        new_series = cls(name)\n",
    "        new_series.add_series(series)\n",
    "        return new_series"
   ]
  },
  {
   "cell_type": "markdown",
   "id": "9fab4776",
   "metadata": {},
   "source": [
    "This approach stores attributes that should be returned when the object is called in a list named `sub_series`. If any attributes are added, they need be be added to the list either directly or with the convenience method `add_series`. The order that names appear in the `sub_series` list determines the order of results when the object is called."
   ]
  },
  {
   "cell_type": "code",
   "execution_count": 13,
   "id": "41f795ed",
   "metadata": {},
   "outputs": [],
   "source": [
    "class GrossLease(Series):\n",
    "    \n",
    "    def __init__(self, name, sf, rent_psf) -> None:\n",
    "        super().__init__(name)\n",
    "        self.sf = sf\n",
    "        self.rent_psf = rent_psf\n",
    "        \n",
    "    @memoize\n",
    "    def base_rent(self, period):\n",
    "        return self.sf * self.rent_psf    \n",
    "\n",
    "\n",
    "class StoredAttrProperty(Series):\n",
    "    \n",
    "    def __init__(self, name, leases, opex_pct) -> None:\n",
    "        super().__init__(name)\n",
    "        self.opex_pct = opex_pct\n",
    "        self.add_series([Series.with_sub_series('leases', leases)], index=0)\n",
    "    \n",
    "    @memoize\n",
    "    def total_rent(self, period):\n",
    "        return sum([l.base_rent(period) for l in self.leases])\n",
    "    \n",
    "    @memoize\n",
    "    def opex(self, period):\n",
    "        return self.total_rent(period) * self.opex_pct\n",
    "    \n",
    "    @memoize\n",
    "    def noi(self, period):\n",
    "        return self.total_rent(period) - self.opex(period)\n",
    "\n",
    "\n",
    "property = StoredAttrProperty(\n",
    "    name='123mainst',\n",
    "    leases = [GrossLease('tenant_a', sf=50_000, rent_psf=40), \n",
    "              GrossLease('tenant_b', sf=25_000, rent_psf=50)],\n",
    "    opex_pct=0.45)"
   ]
  },
  {
   "cell_type": "code",
   "execution_count": 14,
   "id": "310c8143",
   "metadata": {},
   "outputs": [
    {
     "data": {
      "text/html": [
       "<style type=\"text/css\">\n",
       "</style>\n",
       "<table id=\"T_96cb3\">\n",
       "  <thead>\n",
       "    <tr>\n",
       "      <th class=\"blank level0\" >&nbsp;</th>\n",
       "      <th id=\"T_96cb3_level0_col0\" class=\"col_heading level0 col0\" >0</th>\n",
       "      <th id=\"T_96cb3_level0_col1\" class=\"col_heading level0 col1\" >1</th>\n",
       "      <th id=\"T_96cb3_level0_col2\" class=\"col_heading level0 col2\" >2</th>\n",
       "      <th id=\"T_96cb3_level0_col3\" class=\"col_heading level0 col3\" >3</th>\n",
       "      <th id=\"T_96cb3_level0_col4\" class=\"col_heading level0 col4\" >4</th>\n",
       "      <th id=\"T_96cb3_level0_col5\" class=\"col_heading level0 col5\" >5</th>\n",
       "      <th id=\"T_96cb3_level0_col6\" class=\"col_heading level0 col6\" >6</th>\n",
       "      <th id=\"T_96cb3_level0_col7\" class=\"col_heading level0 col7\" >7</th>\n",
       "      <th id=\"T_96cb3_level0_col8\" class=\"col_heading level0 col8\" >8</th>\n",
       "      <th id=\"T_96cb3_level0_col9\" class=\"col_heading level0 col9\" >9</th>\n",
       "    </tr>\n",
       "  </thead>\n",
       "  <tbody>\n",
       "    <tr>\n",
       "      <th id=\"T_96cb3_level0_row0\" class=\"row_heading level0 row0\" >leases.tenant_b.base_rent</th>\n",
       "      <td id=\"T_96cb3_row0_col0\" class=\"data row0 col0\" >1,250,000</td>\n",
       "      <td id=\"T_96cb3_row0_col1\" class=\"data row0 col1\" >1,250,000</td>\n",
       "      <td id=\"T_96cb3_row0_col2\" class=\"data row0 col2\" >1,250,000</td>\n",
       "      <td id=\"T_96cb3_row0_col3\" class=\"data row0 col3\" >1,250,000</td>\n",
       "      <td id=\"T_96cb3_row0_col4\" class=\"data row0 col4\" >1,250,000</td>\n",
       "      <td id=\"T_96cb3_row0_col5\" class=\"data row0 col5\" >1,250,000</td>\n",
       "      <td id=\"T_96cb3_row0_col6\" class=\"data row0 col6\" >1,250,000</td>\n",
       "      <td id=\"T_96cb3_row0_col7\" class=\"data row0 col7\" >1,250,000</td>\n",
       "      <td id=\"T_96cb3_row0_col8\" class=\"data row0 col8\" >1,250,000</td>\n",
       "      <td id=\"T_96cb3_row0_col9\" class=\"data row0 col9\" >1,250,000</td>\n",
       "    </tr>\n",
       "    <tr>\n",
       "      <th id=\"T_96cb3_level0_row1\" class=\"row_heading level0 row1\" >leases.tenant_a.base_rent</th>\n",
       "      <td id=\"T_96cb3_row1_col0\" class=\"data row1 col0\" >2,000,000</td>\n",
       "      <td id=\"T_96cb3_row1_col1\" class=\"data row1 col1\" >2,000,000</td>\n",
       "      <td id=\"T_96cb3_row1_col2\" class=\"data row1 col2\" >2,000,000</td>\n",
       "      <td id=\"T_96cb3_row1_col3\" class=\"data row1 col3\" >2,000,000</td>\n",
       "      <td id=\"T_96cb3_row1_col4\" class=\"data row1 col4\" >2,000,000</td>\n",
       "      <td id=\"T_96cb3_row1_col5\" class=\"data row1 col5\" >2,000,000</td>\n",
       "      <td id=\"T_96cb3_row1_col6\" class=\"data row1 col6\" >2,000,000</td>\n",
       "      <td id=\"T_96cb3_row1_col7\" class=\"data row1 col7\" >2,000,000</td>\n",
       "      <td id=\"T_96cb3_row1_col8\" class=\"data row1 col8\" >2,000,000</td>\n",
       "      <td id=\"T_96cb3_row1_col9\" class=\"data row1 col9\" >2,000,000</td>\n",
       "    </tr>\n",
       "    <tr>\n",
       "      <th id=\"T_96cb3_level0_row2\" class=\"row_heading level0 row2\" >total_rent</th>\n",
       "      <td id=\"T_96cb3_row2_col0\" class=\"data row2 col0\" >3,250,000</td>\n",
       "      <td id=\"T_96cb3_row2_col1\" class=\"data row2 col1\" >3,250,000</td>\n",
       "      <td id=\"T_96cb3_row2_col2\" class=\"data row2 col2\" >3,250,000</td>\n",
       "      <td id=\"T_96cb3_row2_col3\" class=\"data row2 col3\" >3,250,000</td>\n",
       "      <td id=\"T_96cb3_row2_col4\" class=\"data row2 col4\" >3,250,000</td>\n",
       "      <td id=\"T_96cb3_row2_col5\" class=\"data row2 col5\" >3,250,000</td>\n",
       "      <td id=\"T_96cb3_row2_col6\" class=\"data row2 col6\" >3,250,000</td>\n",
       "      <td id=\"T_96cb3_row2_col7\" class=\"data row2 col7\" >3,250,000</td>\n",
       "      <td id=\"T_96cb3_row2_col8\" class=\"data row2 col8\" >3,250,000</td>\n",
       "      <td id=\"T_96cb3_row2_col9\" class=\"data row2 col9\" >3,250,000</td>\n",
       "    </tr>\n",
       "    <tr>\n",
       "      <th id=\"T_96cb3_level0_row3\" class=\"row_heading level0 row3\" >opex</th>\n",
       "      <td id=\"T_96cb3_row3_col0\" class=\"data row3 col0\" >1,462,500</td>\n",
       "      <td id=\"T_96cb3_row3_col1\" class=\"data row3 col1\" >1,462,500</td>\n",
       "      <td id=\"T_96cb3_row3_col2\" class=\"data row3 col2\" >1,462,500</td>\n",
       "      <td id=\"T_96cb3_row3_col3\" class=\"data row3 col3\" >1,462,500</td>\n",
       "      <td id=\"T_96cb3_row3_col4\" class=\"data row3 col4\" >1,462,500</td>\n",
       "      <td id=\"T_96cb3_row3_col5\" class=\"data row3 col5\" >1,462,500</td>\n",
       "      <td id=\"T_96cb3_row3_col6\" class=\"data row3 col6\" >1,462,500</td>\n",
       "      <td id=\"T_96cb3_row3_col7\" class=\"data row3 col7\" >1,462,500</td>\n",
       "      <td id=\"T_96cb3_row3_col8\" class=\"data row3 col8\" >1,462,500</td>\n",
       "      <td id=\"T_96cb3_row3_col9\" class=\"data row3 col9\" >1,462,500</td>\n",
       "    </tr>\n",
       "    <tr>\n",
       "      <th id=\"T_96cb3_level0_row4\" class=\"row_heading level0 row4\" >noi</th>\n",
       "      <td id=\"T_96cb3_row4_col0\" class=\"data row4 col0\" >1,787,500</td>\n",
       "      <td id=\"T_96cb3_row4_col1\" class=\"data row4 col1\" >1,787,500</td>\n",
       "      <td id=\"T_96cb3_row4_col2\" class=\"data row4 col2\" >1,787,500</td>\n",
       "      <td id=\"T_96cb3_row4_col3\" class=\"data row4 col3\" >1,787,500</td>\n",
       "      <td id=\"T_96cb3_row4_col4\" class=\"data row4 col4\" >1,787,500</td>\n",
       "      <td id=\"T_96cb3_row4_col5\" class=\"data row4 col5\" >1,787,500</td>\n",
       "      <td id=\"T_96cb3_row4_col6\" class=\"data row4 col6\" >1,787,500</td>\n",
       "      <td id=\"T_96cb3_row4_col7\" class=\"data row4 col7\" >1,787,500</td>\n",
       "      <td id=\"T_96cb3_row4_col8\" class=\"data row4 col8\" >1,787,500</td>\n",
       "      <td id=\"T_96cb3_row4_col9\" class=\"data row4 col9\" >1,787,500</td>\n",
       "    </tr>\n",
       "  </tbody>\n",
       "</table>\n"
      ],
      "text/plain": [
       "<pandas.io.formats.style.Styler at 0x11cbd1bd0>"
      ]
     },
     "execution_count": 14,
     "metadata": {},
     "output_type": "execute_result"
    }
   ],
   "source": [
    "pd.DataFrame([property(y) for y in range(10)]).T.style.format('{:,.0f}')"
   ]
  },
  {
   "cell_type": "markdown",
   "id": "4faea67f",
   "metadata": {},
   "source": [
    "### Approach comparison\n",
    "There's no meaningful difference in performance between the two approaches. If it turns out that the ordering issue with the dynamic approach isn't a big deal (or there's a way to add custom orders), then its simplicity is preferrable over maintaining a list of sub-series attributes."
   ]
  },
  {
   "cell_type": "code",
   "execution_count": 15,
   "id": "2898e6a1",
   "metadata": {},
   "outputs": [
    {
     "name": "stdout",
     "output_type": "stream",
     "text": [
      "1.9 ms ± 21.9 µs per loop (mean ± std. dev. of 7 runs, 1,000 loops each)\n"
     ]
    }
   ],
   "source": [
    "def dynamic_look_up():\n",
    "    DynamicProperty(\n",
    "        name='123mainst',\n",
    "        leases=SeriesGroup('leases', \n",
    "                           GrossLease('tenant_a', sf=50_000, rent_psf=40), \n",
    "                           GrossLease('tenant_b', sf=25_000, rent_psf=50)),\n",
    "        opex_pct=0.55)\n",
    "    \n",
    "    return [property(p) for p in range(120)]\n",
    "\n",
    "%timeit dynamic_look_up()"
   ]
  },
  {
   "cell_type": "code",
   "execution_count": 16,
   "id": "a95aeb7e",
   "metadata": {},
   "outputs": [
    {
     "name": "stdout",
     "output_type": "stream",
     "text": [
      "1.93 ms ± 19.9 µs per loop (mean ± std. dev. of 7 runs, 100 loops each)\n"
     ]
    }
   ],
   "source": [
    "def stored_attr():\n",
    "    StoredAttrProperty(\n",
    "        name='123mainst',\n",
    "        leases=SeriesGroup('leases', \n",
    "                           GrossLease('tenant_a', sf=50_000, rent_psf=40), \n",
    "                           GrossLease('tenant_b', sf=25_000, rent_psf=50)),\n",
    "        opex_pct=0.55)\n",
    "    \n",
    "    return [property(p) for p in range(120)]\n",
    "\n",
    "%timeit stored_attr()"
   ]
  }
 ],
 "metadata": {
  "kernelspec": {
   "display_name": "Python 3 (ipykernel)",
   "language": "python",
   "name": "python3"
  },
  "language_info": {
   "codemirror_mode": {
    "name": "ipython",
    "version": 3
   },
   "file_extension": ".py",
   "mimetype": "text/x-python",
   "name": "python",
   "nbconvert_exporter": "python",
   "pygments_lexer": "ipython3",
   "version": "3.10.4"
  }
 },
 "nbformat": 4,
 "nbformat_minor": 5
}
