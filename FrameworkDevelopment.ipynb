{
 "cells": [
  {
   "cell_type": "markdown",
   "id": "7a40fda4",
   "metadata": {},
   "source": [
    "# Modeling Cash Flows in Python"
   ]
  },
  {
   "cell_type": "code",
   "execution_count": 1,
   "id": "a62b24a3",
   "metadata": {},
   "outputs": [],
   "source": [
    "import pandas as pd"
   ]
  },
  {
   "cell_type": "markdown",
   "id": "001bee2d",
   "metadata": {},
   "source": [
    "## Framework Development--First Steps\n",
    "The goal with this framework is to create a way to easily model cash flows in Python. It should be easy for people coming from a traditional Excel-based underwriting background to understand. As a result, heavy inspiration comes from typical Excel model patterns.\n",
    "\n",
    "Modeling Excel rows as functions with time periods as arguments is a natural place to start. The capital account below is a basic example. Even for a simple model though, function execution ends up being highly iterative."
   ]
  },
  {
   "cell_type": "code",
   "execution_count": 2,
   "id": "1223c550",
   "metadata": {},
   "outputs": [
    {
     "name": "stdout",
     "output_type": "stream",
     "text": [
      "CPU times: user 2.93 s, sys: 12.7 ms, total: 2.94 s\n",
      "Wall time: 2.97 s\n",
      "Total function executions: 10485755\n"
     ]
    }
   ],
   "source": [
    "call_counter = 0\n",
    "\n",
    "def starting_balance(period: int):\n",
    "    global call_counter\n",
    "    call_counter += 1\n",
    "    return 100 if period == 0 else ending_balance(period - 1)\n",
    "\n",
    "def draw(period: int):\n",
    "    global call_counter\n",
    "    call_counter += 1\n",
    "    return 5\n",
    "\n",
    "def accrual(period: int):\n",
    "    global call_counter\n",
    "    call_counter += 1\n",
    "    return round(starting_balance(period) * 0.08, 2)\n",
    "\n",
    "def ending_balance(period: int):\n",
    "    global call_counter\n",
    "    call_counter += 1\n",
    "    return starting_balance(period) + draw(period) + accrual(period)\n",
    "\n",
    "%time ending_balance(20)\n",
    "print(f'Total function executions: {call_counter}')"
   ]
  },
  {
   "cell_type": "markdown",
   "id": "1b7bda60",
   "metadata": {},
   "source": [
    "The runtime for 20 periods executed locally is just under three seconds. The total number of function calls is exponential (O(2^n)) in this simple example. This clearly doesn't work for a typical 10 monthly pro forma with hundreds of line items.\n",
    "Using `cache` (equivalent to `lru_cache(maxsize=None)` available in 3.10+) cuts runtime down to approximately 60 microseconds."
   ]
  },
  {
   "cell_type": "code",
   "execution_count": 3,
   "id": "9bcf00e3",
   "metadata": {},
   "outputs": [
    {
     "name": "stdout",
     "output_type": "stream",
     "text": [
      "CPU times: user 49 µs, sys: 0 ns, total: 49 µs\n",
      "Wall time: 50.8 µs\n",
      "Total function executions: 84\n"
     ]
    }
   ],
   "source": [
    "from functools import cache\n",
    "\n",
    "call_counter = 0\n",
    "\n",
    "@cache\n",
    "def starting_balance(period: int):\n",
    "    global call_counter\n",
    "    call_counter += 1\n",
    "    return 100 if period == 0 else ending_balance(period - 1)\n",
    "\n",
    "@cache\n",
    "def draw(period: int):\n",
    "    global call_counter\n",
    "    call_counter += 1\n",
    "    return 5\n",
    "\n",
    "@cache\n",
    "def accrual(period: int):\n",
    "    global call_counter\n",
    "    call_counter += 1\n",
    "    return round(starting_balance(period) * 0.08, 2)\n",
    "\n",
    "@cache\n",
    "def ending_balance(period: int):\n",
    "    global call_counter\n",
    "    call_counter += 1\n",
    "    return starting_balance(period) + draw(period) + accrual(period)\n",
    "\n",
    "%time ending_balance(20)\n",
    "print(f'Total function executions: {call_counter}')"
   ]
  },
  {
   "cell_type": "markdown",
   "id": "1ed990a0",
   "metadata": {},
   "source": [
    "`cache`/`lru_cache` wrappers store cached values in a dictionary with keys equal to the hashed argument parameters. This creates two challenges: i) arguements must be hashable (i.e. immutable), and ii) caches will be stored across instances if wrapped at the class level.\n",
    "\n",
    "We will ignore the first issue for now since it likely isn't an issue in many cases. The second issue means wrapping methods will could lead to memory leaks."
   ]
  },
  {
   "cell_type": "code",
   "execution_count": 4,
   "id": "d6d9b4ab",
   "metadata": {},
   "outputs": [
    {
     "name": "stdout",
     "output_type": "stream",
     "text": [
      "Cache size with both instances: CacheInfo(hits=0, misses=2, maxsize=None, currsize=2)\n",
      "Cache size after first instance removed: CacheInfo(hits=0, misses=2, maxsize=None, currsize=2)\n"
     ]
    }
   ],
   "source": [
    "import gc\n",
    "\n",
    "class Property:\n",
    "    \n",
    "    def __init__(self, sf, rental_rate):\n",
    "        self.sf = sf\n",
    "        self.rental_rate = rental_rate\n",
    "    \n",
    "    @cache\n",
    "    def rent(self, period):\n",
    "        return self.sf * self.rental_rate\n",
    "\n",
    "\n",
    "prop1 = Property(100_000, 40)\n",
    "prop2 = Property(50_000, 60)\n",
    "prop1.rent(1)\n",
    "prop2.rent(1)\n",
    "print(f'Cache size with both instances: {prop2.rent.cache_info()}')\n",
    "del prop1\n",
    "gc.collect()  # Force a garbage collection cycle to run\n",
    "print(f'Cache size after first instance removed: {prop2.rent.cache_info()}')"
   ]
  },
  {
   "cell_type": "markdown",
   "id": "5dfab5d0",
   "metadata": {},
   "source": [
    "Even if a property instance is deleted, the cached values of its methods are never purged even after it is removed. Note that there isn't cache key collision because the instance `self` parameter is included in the key.\n",
    "\n",
    "An alternative to using `cache` would be `lru_cache` with some defined max size. This would eventually purge old values, but it's impossible to know how large the max size should be since it depends on the number of instances created and unique method calls.\n",
    "\n",
    "Ideally, the cache would be separate for each instance and would be removed when the instance is removed. [Descriptors](https://docs.python.org/3/howto/descriptor.html) allow us to generate a new cached method for each instance the first time it is called. This approach also speeds up initialization since caches aren't created until they are needed."
   ]
  },
  {
   "cell_type": "code",
   "execution_count": 5,
   "id": "22e5cbc0",
   "metadata": {},
   "outputs": [],
   "source": [
    "from types import MethodType\n",
    "\n",
    "class memoize:\n",
    "    \n",
    "    def __init__(self, func):\n",
    "        self.func = func\n",
    "    \n",
    "    def __set_name__(self, owner, name):\n",
    "        self.name = name\n",
    "    \n",
    "    def __get__(self, instance=None, cls=None):\n",
    "        if instance is None:\n",
    "            return self\n",
    "        \n",
    "        bound_func = MethodType(cache(self.func), instance)\n",
    "        setattr(instance, self.name, bound_func)\n",
    "        return bound_func"
   ]
  },
  {
   "cell_type": "code",
   "execution_count": 6,
   "id": "c6c71664",
   "metadata": {},
   "outputs": [
    {
     "name": "stdout",
     "output_type": "stream",
     "text": [
      "<bound method Property.rent of <__main__.Property object at 0x11aca7fa0>>\n",
      "None\n"
     ]
    }
   ],
   "source": [
    "import weakref\n",
    "\n",
    "class Property:\n",
    "    \n",
    "    def __init__(self, sf, rental_rate):\n",
    "        self.sf = sf\n",
    "        self.rental_rate = rental_rate\n",
    "    \n",
    "    @memoize\n",
    "    def rent(self, period):\n",
    "        return self.sf * self.rental_rate\n",
    "\n",
    "prop = Property(100_000, 40)\n",
    "# Create weak reference to the func with caching wrapper so that gc will remove it if no other references\n",
    "cache_ref = weakref.ref(prop.rent)\n",
    "print(cache_ref())\n",
    "\n",
    "del prop\n",
    "gc.collect()\n",
    "print(cache_ref())"
   ]
  },
  {
   "cell_type": "markdown",
   "id": "f4aad070",
   "metadata": {},
   "source": [
    "Using a callable object as a method wrapper works perfectly fine. Some IDE's have trouble finding the appropriate type hints and function signatures though. For example, PyCharm shows correct function signature hint for the underlying wrapped function, but VS Code/Pylance simply shows the generic function signature for the `MethodType` wrapper. This seems to be an issue for many function wrappers, including builtins that are part of the base Python distribution. Pylance issues with wrappers seems to be a common question. To be reviewed at some point later."
   ]
  },
  {
   "cell_type": "markdown",
   "id": "5cedafa9",
   "metadata": {},
   "source": [
    "## Framework Development--Reusable Components and Groupings\n",
    "There are a few challenges with the single-method-per-line-item approach, including:\n",
    "* the whole class must be re-defined if any of the functions need to be changed\n",
    "* code isn't reusable\n",
    "* it's difficult to navigate for large projects\n",
    "\n",
    "To start, the `memoize` class is re-defined below to inherit from a generic type and attach a name property to the wrapped function. These changes allow us to treat functions similarly to the callable container class `SeriesGroup` defined below."
   ]
  },
  {
   "cell_type": "code",
   "execution_count": 7,
   "id": "ed1ff69e",
   "metadata": {},
   "outputs": [],
   "source": [
    "class AbstractSeries:\n",
    "    pass\n",
    "\n",
    "class memoized_series(AbstractSeries):  # subclass of new generic type\n",
    "    \n",
    "    def __init__(self, func) -> None:\n",
    "        super().__init__()\n",
    "        self.func = func\n",
    "    \n",
    "    def __set_name__(self, owner, name) -> None:\n",
    "        self.name = name\n",
    "        self.func.name = name  # give the function a name property with the same name\n",
    "    \n",
    "    def __get__(self, instance=None, cls=None):\n",
    "        if instance is None:\n",
    "            return self\n",
    "        \n",
    "        bound_func = MethodType(cache(self.func), instance)\n",
    "        setattr(instance, self.name, bound_func)\n",
    "        return bound_func"
   ]
  },
  {
   "cell_type": "markdown",
   "id": "14c4022b",
   "metadata": {},
   "source": [
    "The approach below builds out a composite tree. When a `SeriesGroup` node is called, it will propogate the call down to any node children and return the results of all the `memoized_series` methods. The response is a dictionary of `name: value` pairs for each `memoized_series` of the tree. \n",
    "\n",
    "Whenever an attribute is added to a `SeriesGroup` object, it's type is check. If it is also a `SeriesGroup` type, then it's parent property is automatically set to the containing `SeriesGroup`. Similarly, when an attribute is removed, it's type is checked and the `parent` property is cleared if necessary. This allows automatic navigation up the composite tree.\n",
    "\n",
    "To navigate down the composite tree, attribute types are checked. Any `SeriesGroup` attributes (other than the `parent` property) `memoized_series` are considered children.\n",
    "\n",
    "Since all nodes of the composite tree are linked, any node can reference any other node even if it's on another branch of the tree. The `series` method searches the entire tree structure and returns any series that meets the optional filtering function. If there's no filter, it will return the entire tree. The `child_series` just searches the current node and any child nodes. "
   ]
  },
  {
   "cell_type": "code",
   "execution_count": 8,
   "id": "680b41a1",
   "metadata": {},
   "outputs": [],
   "source": [
    "from __future__ import annotations\n",
    "\n",
    "class SeriesGroup(AbstractSeries):\n",
    "    \n",
    "    def __init__(self, name: str, parent: SeriesGroup=None) -> None:\n",
    "        super().__init__()\n",
    "        self.name = name\n",
    "        self.parent = parent\n",
    "    \n",
    "    @classmethod  # convenience function for initializing with children nodes\n",
    "    def with_children(cls, name: str, children: Dict[str, SeriesGroup]) -> SeriesGroup:\n",
    "        new_sg = cls(name)\n",
    "        for name, sg in children.items():\n",
    "            setattr(new_sg, name, sg)\n",
    "        return new_sg\n",
    "    \n",
    "    def __setattr__(self, __name: str, __value: Any) -> None:\n",
    "        \"\"\"If setting a SeriesGroup as an attribute, set the attribute's `parent` property to self\"\"\"\n",
    "        if isinstance(__value, SeriesGroup):\n",
    "            super(SeriesGroup, __value).__setattr__('parent', self)\n",
    "        return super().__setattr__(__name, __value)\n",
    "    \n",
    "    def __delattr__(self, __name: str) -> None:\n",
    "        \"\"\"If removing a SeriesGroup attribute, set the `parent` property to None\"\"\"\n",
    "        attr = getattr(self, __name)\n",
    "        if isinstance(attr, SeriesGroup):\n",
    "            attr.parent = None\n",
    "        return super().__delattr__(__name)\n",
    "    \n",
    "    def __call__(self, *args: Any, **kwds: Any) -> Any:\n",
    "        series_values = {series.name: series(*args, **kwds) for series in self._series()}\n",
    "        return flatten_dict(series_values)\n",
    "    \n",
    "    def _series(self) -> List[str, SeriesGroup]:\n",
    "        \"\"\"Get node's children series\"\"\"\n",
    "        attrs = []\n",
    "        is_child_series = lambda name, attr: False if name == 'parent' else isinstance(attr, AbstractSeries)\n",
    "\n",
    "        # get instance attributes\n",
    "        if hasattr(obj, '__dict__'):\n",
    "            for name, value in obj.__dict__.items():\n",
    "                if is_child_series(name, value):\n",
    "                    attrs.append(getattr(obj, name))\n",
    "\n",
    "        # get type attributes\n",
    "        bases = type(obj).__mro__\n",
    "\n",
    "        for base in bases:\n",
    "            for name, attr in base.__dict__.items():\n",
    "                if is_child_series(name, attr) and (name not in attrs):\n",
    "                    attrs.append(getattr(obj, name))\n",
    "\n",
    "        return attrs\n",
    "    \n",
    "    def root(self) -> SeriesGroup:\n",
    "        \"\"\"Return tree root node\"\"\"\n",
    "        return self.parent.root() if self.parent is not None else self\n",
    "    \n",
    "    def series(self, function: Callable | None = None) -> List[SeriesGroup]:\n",
    "        \"\"\"\n",
    "        Return series in the tree where the test function returns `True` or all tree series if function is None\n",
    "        The test function should take a single AbstractSeries parameter and return a bool\n",
    "        \"\"\"\n",
    "        return self.root().child_series(function=function)\n",
    "    \n",
    "    def child_series(self, function: Callable | None = None) -> List[SeriesGroup]:\n",
    "        \"\"\"\n",
    "        Return children series where the test function returns `True` or all children series if function is None\n",
    "        The test function should take a single AbstractSeries parameter and return a bool\n",
    "        \"\"\"\n",
    "        series = []\n",
    "        \n",
    "        children = self._series()\n",
    "        \n",
    "        for child in children:\n",
    "            # If there's a test condition, add child if it passes the test regardless of whether its a SG or memoized_series\n",
    "            # If SG, propogate call to children as well\n",
    "            if function is not None:\n",
    "                if function(child):\n",
    "                    series.append(child)\n",
    "                \n",
    "                if isinstance(child, SeriesGroup):\n",
    "                    series.extend(child.child_series(function=function))\n",
    "            \n",
    "            # If no test condition, then then propogate call if SG otherwise add to series\n",
    "            else:\n",
    "                if isinstance(child, SeriesGroup):\n",
    "                    series.extend(child.child_series(function=function))\n",
    "                else:\n",
    "                    series.append(child)\n",
    "        \n",
    "        return series"
   ]
  },
  {
   "cell_type": "markdown",
   "id": "60385d9f",
   "metadata": {},
   "source": [
    "One great benefit to holding children as regular attributes--rather than, say, in a list--is that it allows navigation over the tree both by directly accessing attributes _and_ by search conditions. For example, if you had an income statement model for a multi-national consumer business and wanted to see retention for a specific cohort of a specific product, you might access that data directly with something like:\n",
    "\n",
    "```\n",
    "statement.revenue.americas.productyyy.cohortzzz.retention(...)\n",
    "```\n",
    "\n",
    "Alternatively, if you didn't know the structure of the model (or were creating a component class that was agnostic to model structure), you might find the same values by searching the tree with something like:\n",
    "\n",
    "```\n",
    "statement.series(lambda s: isinstance(s, RetentionClass) and (s.region == 'americas) and ...)\n",
    "```\n",
    "\n",
    "This approach isn't without tradeoffs. Since all children are regular attributes, they must have unique names which adds complexity.\n",
    "\n",
    "Additionally, search results currently aren't stored. Searching the entire tree every time a series is called with new parameters can significantly slow down results depending on the complexity of the tree. Accessing references directly when they are known ahead of time (for example, within the same class or required child attributes) improves performance.\n",
    "\n",
    "Currently there isn't an easy way to clear `memoized_series` caches. This means the flexibilty of dynamically looking up references to other series is compromised by the fact that functions within the tree may already store results from previous references. In generally, the risk of accidentally using outdated function results is a big risk of caching functions that are not pure functions. Some ideas to help manage this risk include i) run calculation cycles in a context manager that clears cached results on entering and exiting the context, and ii) create a new instance for every calculation cycle that is thrown away afterwards."
   ]
  }
 ],
 "metadata": {
  "kernelspec": {
   "display_name": "Python 3 (ipykernel)",
   "language": "python",
   "name": "python3"
  },
  "language_info": {
   "codemirror_mode": {
    "name": "ipython",
    "version": 3
   },
   "file_extension": ".py",
   "mimetype": "text/x-python",
   "name": "python",
   "nbconvert_exporter": "python",
   "pygments_lexer": "ipython3",
   "version": "3.10.4"
  }
 },
 "nbformat": 4,
 "nbformat_minor": 5
}
